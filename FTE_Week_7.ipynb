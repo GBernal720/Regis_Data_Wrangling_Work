{
 "cells": [
  {
   "cell_type": "markdown",
   "metadata": {},
   "source": [
    "# Week 7 - APIs\n",
    "\n",
    "**Optional Reading:** Data Wrangling with Python, Chapter 13 (pages 361 - 375)\n",
    "<img align=\"right\" style=\"padding-right:10px;\" src=\"figures_7/Data_Wrangling_Book.jpg\" ><br>\n",
    "\n",
    "**Overview:**<br>\n",
    "\n",
    "* Application Programming Interface (API)\n",
    "\n",
    "  * What is an API?\n",
    "  * Who creates APIs?\n",
    "  * When would I use an API?\n",
    "    \n",
    "* Use Case: REST API\n",
    "\n",
    "  * NASA: Astronomy Picture of the Day (APOD)\n",
    "     * APOD: Current Day\n",
    "     * APOD: Specific Day\n",
    "     \n",
    "* Use Case: Streaming API\n",
    "\n",
    "  * Twitter's streaming API\n",
    "     * Specific number of 'live tweets'\n",
    "     * Streaming of Twitter data   "
   ]
  },
  {
   "cell_type": "markdown",
   "metadata": {},
   "source": [
    "# Application Programming Interface (API)\n",
    "\n",
    "An application programming interface (API) is \"a set of protocols used by programmers to create applications for a specific operating system or to interface between the different modules of an application.\" <br> \n",
    "https://www.dictionary.com\n",
    "\n",
    "It sounds complicated and complex based on that definition, but it is not.\n",
    "\n",
    "\n",
    "## What is an API?\n",
    "In basic terms, APIs allow applications to communicate with each other via the internet and governs access to information.\n",
    " \n",
    "<img align=\"left\" style=\"padding-right:10px;\" src=\"figures_7/API-communication.png\" ><br>\n",
    "https://medium.com/@perrysetgo/what-exactly-is-an-api-69f36968a41f"
   ]
  },
  {
   "cell_type": "markdown",
   "metadata": {},
   "source": [
    "## Who creates APIs?\n",
    "\"Large tech companies, especially social media companies frequently make their aggregate data available to the public, but APIs are also maintained by government organizations, conferences, publishing houses, software startups, fan groups, eSports leagues and even individuals, in order to share anything from social media content to trivia questions, rankings, maps, song lyrics, recipes, parts lists and more.\n",
    "\n",
    "In short, any person or organization that collects data might have an interest in making that data available for use by a different app.\"\n",
    "\n",
    "https://medium.com/@perrysetgo/what-exactly-is-an-api-69f36968a41f"
   ]
  },
  {
   "cell_type": "markdown",
   "metadata": {},
   "source": [
    "## When would I use an API?\n",
    "One of the most common APIs that students use to gain an understanding of how to work with an API is Twitter. \n",
    "\n",
    "Imagine that as a student; you are asked to complete an analysis of all the tweets mentioning #RegisUniversity. Twitter's internal systems store that information, but you do not have access to those systems. \n",
    "\n",
    "You have a couple of options at this point:\n",
    "   * Search a variety of social media websites looking for an employee within Twitter and ask their help in retrieving this information for you to use.\n",
    "   * Contact Twitter directly and request access to their systems.\n",
    "   * Ask Twitter to send you a copy of the data you are looking for\n",
    "   * Any number of less legal methods of obtaining your data\n",
    "   \n",
    "   <strong> OR </strong> <br><br>\n",
    "   \n",
    "   * You could use the API that Twitter provides for public use.  "
   ]
  },
  {
   "cell_type": "markdown",
   "metadata": {},
   "source": [
    "# Use Case: REST API\n",
    "There are different types of APIs. The most common type is known as a REST API. <b>REST</b> stands for <b>Re</b>presentational <b>S</b>tate <b>T</b>ransfer \n",
    "\n",
    "A REST API uses the HTTP requests to GET, PUT, POST and DELETE data. "
   ]
  },
  {
   "cell_type": "markdown",
   "metadata": {},
   "source": [
    "## NASA: Astronomy Picture of the Day (APOD)\n",
    "NASA releases a lot of data to the general public, including an Astronomy Picture of the Day (APOD). To get the picture you need to issue an HTTP GET request and parse the JSON that is returned. \n",
    "\n",
    "This task is made easier with the requests package. Although requests is not standard in python3, it is becoming a standard package in industry."
   ]
  },
  {
   "cell_type": "markdown",
   "metadata": {},
   "source": [
    "### APOD: Current Day"
   ]
  },
  {
   "cell_type": "markdown",
   "metadata": {},
   "source": [
    "<div class=\"alert alert-block alert-success\">\n",
    "<b>Installation - requests</b> <br>\n",
    "    pip install requests \n",
    "</div>"
   ]
  },
  {
   "cell_type": "code",
   "execution_count": null,
   "metadata": {},
   "outputs": [],
   "source": [
    "pip install requests"
   ]
  },
  {
   "cell_type": "code",
   "execution_count": null,
   "metadata": {},
   "outputs": [],
   "source": [
    "import requests"
   ]
  },
  {
   "cell_type": "markdown",
   "metadata": {},
   "source": [
    "Using the requests package is very easy. \n",
    "\n",
    "For example, NASA gives us an example URL with a demo security key that can be used to query the APOD interface. \n",
    "Generally speaking, the creator of an API will require individuals to register and receive their own credentials to use their API. Given the popularity of the APOD API, NASA has provided the public with a guest credential, 'DEMO_KEY' to view 30 images (based on ip address) each day.  of 'DEMO_KEY'. \n",
    "\n",
    "The request url, at this point, would look like: https://api.nasa.gov/planetary/apod?api_key=DEMO_KEY\n",
    "\n",
    "Everything after the '?' is a variable and its associated value. In this case, NASA expects a variable called \"api_key\" which we will supply the guest credential of 'DEMO_KEY'.\n",
    "\n",
    "Many times these variables (or 'parameters') will come from user input and so should not be hard-coded. Below is an example of making a request, with the parameter(s) contained in a dictionary variable:"
   ]
  },
  {
   "cell_type": "code",
   "execution_count": null,
   "metadata": {},
   "outputs": [],
   "source": [
    "# building and sending our request\n",
    "apiKey = {'api_key':'DEMO_KEY'}\n",
    "\n",
    "# storing the results in a variable\n",
    "result =  requests.get('https://api.nasa.gov/planetary/apod',params=apiKey)"
   ]
  },
  {
   "cell_type": "markdown",
   "metadata": {},
   "source": [
    "The response that was returned from our request has specific attributes associated with it. Based on the documentation for APOD, the response will return the requesting url that was used. To look at the URL that was used in the original request."
   ]
  },
  {
   "cell_type": "code",
   "execution_count": null,
   "metadata": {},
   "outputs": [],
   "source": [
    "print(result.url)"
   ]
  },
  {
   "cell_type": "markdown",
   "metadata": {},
   "source": [
    "To look at the entire text of the response that was returned from our request."
   ]
  },
  {
   "cell_type": "code",
   "execution_count": null,
   "metadata": {},
   "outputs": [],
   "source": [
    "print(result.text)"
   ]
  },
  {
   "cell_type": "markdown",
   "metadata": {},
   "source": [
    "Hmmm... That's a bit messy and hard to read.  Remember from above, we know that the response is JSON. Fortunately for us, JSON data can go straight into a dictionary. Requests can handle JSON data by calling json() function."
   ]
  },
  {
   "cell_type": "code",
   "execution_count": null,
   "metadata": {},
   "outputs": [],
   "source": [
    "dict_current = result.json()"
   ]
  },
  {
   "cell_type": "markdown",
   "metadata": {},
   "source": [
    "Let's get a list of all the keys in our JSON dictionary."
   ]
  },
  {
   "cell_type": "code",
   "execution_count": null,
   "metadata": {},
   "outputs": [],
   "source": [
    "dict_current.keys()"
   ]
  },
  {
   "cell_type": "markdown",
   "metadata": {},
   "source": [
    "Let's try to access several of the keys within our dictionary."
   ]
  },
  {
   "cell_type": "code",
   "execution_count": null,
   "metadata": {},
   "outputs": [],
   "source": [
    "dict_current['date']"
   ]
  },
  {
   "cell_type": "code",
   "execution_count": null,
   "metadata": {},
   "outputs": [],
   "source": [
    "dict_current['explanation']"
   ]
  },
  {
   "cell_type": "markdown",
   "metadata": {},
   "source": [
    "So far so good, but we still haven't seen a picture. One would assume that \"Picture of the Day\" would have an actual picture associated with the data. \n",
    "\n",
    "After consulting the documentation for the APOD API on (https://github.com/nasa/apod-api/blob/master/README.md), we are able to determine that 'url' contains a link to the APOD."
   ]
  },
  {
   "cell_type": "code",
   "execution_count": null,
   "metadata": {},
   "outputs": [],
   "source": [
    "dict_current['url']"
   ]
  },
  {
   "cell_type": "markdown",
   "metadata": {},
   "source": [
    "Time to actually view the picture. Notice that this url is pointing to a jpg image. Luckily for us, we have already seen how to view a jpg images during this course. \n",
    "\n",
    "In prior weeks, we used Image(filename = 'some_filename.jpg').  This week, we will be using Image() with a url.\n",
    "\n",
    "<div class=\"alert alert-block alert-info\">\n",
    "<b>Be patient!</b> It might take a bit to get the picture to display\n",
    "</div>"
   ]
  },
  {
   "cell_type": "code",
   "execution_count": null,
   "metadata": {},
   "outputs": [],
   "source": [
    "from IPython.display import Image\n",
    "\n",
    "Image(dict_current['url'])"
   ]
  },
  {
   "cell_type": "markdown",
   "metadata": {},
   "source": [
    "### APOD: Specific Day"
   ]
  },
  {
   "cell_type": "markdown",
   "metadata": {},
   "source": [
    "By changing the values that we used in our original request, we should be able to view a APOD for a specific date.  \n",
    "\n",
    "The documentation on NASA's API page (https://api.nasa.gov/) details the query parameters for the APOD API.\n",
    "\n",
    "<img align=\"left\" style=\"padding-right:10px;\" src=\"figures_7/APOD-parameters.png\" ><br>\n"
   ]
  },
  {
   "cell_type": "markdown",
   "metadata": {},
   "source": [
    "Let's try using the datetime package within python and the above information to get different pictures."
   ]
  },
  {
   "cell_type": "code",
   "execution_count": null,
   "metadata": {},
   "outputs": [],
   "source": [
    "import datetime\n",
    "now = datetime.datetime.now()\n",
    "print(now.date())"
   ]
  },
  {
   "cell_type": "markdown",
   "metadata": {},
   "source": [
    "To get a different day/week/month, etc. we can use the timedelta() function:"
   ]
  },
  {
   "cell_type": "code",
   "execution_count": null,
   "metadata": {},
   "outputs": [],
   "source": [
    "yesterday = now - datetime.timedelta(days = 1)\n",
    "print(yesterday.date())"
   ]
  },
  {
   "cell_type": "markdown",
   "metadata": {},
   "source": [
    "So, to get yesterday's picture:"
   ]
  },
  {
   "cell_type": "code",
   "execution_count": null,
   "metadata": {},
   "outputs": [],
   "source": [
    "# using a dictionary for the query parameters\n",
    "data = {'api_key':'DEMO_KEY', 'date':yesterday.date()}\n",
    "data"
   ]
  },
  {
   "cell_type": "code",
   "execution_count": null,
   "metadata": {},
   "outputs": [],
   "source": [
    "# using the paramas argument in our request\n",
    "result =  requests.get('https://api.nasa.gov/planetary/apod',params=data)\n",
    "\n",
    "# create a dictionary for yesterday's picture\n",
    "dict_yesterday = result.json()\n",
    "\n",
    "# verify the date\n",
    "print(dict_yesterday['date'])"
   ]
  },
  {
   "cell_type": "markdown",
   "metadata": {},
   "source": [
    "Viewing yesterday's picture"
   ]
  },
  {
   "cell_type": "code",
   "execution_count": null,
   "metadata": {},
   "outputs": [],
   "source": [
    "Image(dict_yesterday['url'])"
   ]
  },
  {
   "cell_type": "markdown",
   "metadata": {},
   "source": [
    "Okay, one more, how about we get the picture from a specific date. Let's use Jan 01, 2015.\n",
    "\n",
    "<div class=\"alert alert-block alert-warning\">\n",
    "<b>Note:</b> There are some dates that do not have a APOD, if the date you choose isn't available NASA will return the APOD for the current date. https://apod.nasa.gov/apod/archivepix.html has a list of the dates with available pictures.\n",
    "</div>\n",
    "\n",
    "We need to make a <strong>date</strong> object to pass to the APOD API."
   ]
  },
  {
   "cell_type": "code",
   "execution_count": null,
   "metadata": {},
   "outputs": [],
   "source": [
    "# datetime format is yyyy-mm-dd\n",
    "my_date = datetime.date(int('2015'),int('01'),int('01'))\n",
    "my_date"
   ]
  },
  {
   "cell_type": "code",
   "execution_count": null,
   "metadata": {},
   "outputs": [],
   "source": [
    "# same process as above\n",
    "data = {'api_key':'DEMO_KEY', 'date': my_date}\n",
    "results =  requests.get('https://api.nasa.gov/planetary/apod',params=data)\n",
    "dict_my_date = results.json()\n",
    "Image(dict_my_date['url'])"
   ]
  },
  {
   "cell_type": "code",
   "execution_count": null,
   "metadata": {},
   "outputs": [],
   "source": [
    "new_date = datetime.date(int('2010'),int('01'),int('01'))\n",
    "\n",
    "# same process as above\n",
    "data = {'api_key':'DEMO_KEY', 'date': new_date}\n",
    "results =  requests.get('https://api.nasa.gov/planetary/apod',params=data)\n",
    "dict_new_date = results.json()\n",
    "Image(dict_new_date['url'])"
   ]
  },
  {
   "cell_type": "markdown",
   "metadata": {},
   "source": [
    "# Use Case: Streaming API\n",
    "In the prior use case, we covered REST APIs.  Now we are going to take a look at Streaming APIs. The main difference between these two types of APIs is the timing/revelance of the data being returned. A streaming API returns 'live' data. \n",
    "\n",
    "One of the easiest streaming API is Twitter."
   ]
  },
  {
   "cell_type": "markdown",
   "metadata": {},
   "source": [
    "## Twitter's streaming API\n",
    "To fully reproduce this section of the FTE, you will need to obtain your own credentials from Twitter. You might have already done this for a prior MSDS class.  If so, you can reuse those credentials for this exercise.\n",
    "\n",
    "To create a Twitter developer account, if you do not already have one, following these steps:\n",
    "\n",
    "Go to https://developer.twitter.com/en/apps and log in with your Twitter user account.\n",
    "* Click “Create an app”\n",
    "* Fill out the form, and click “Create”\n",
    "* A pop up window will appear for reviewing Developer Terms. Click the “Create” button again.\n",
    "* In the next page, click on “Keys and Access Tokens” tab, and copy your “API key” and “API secret” from the Consumer API keys section.\n",
    "* Scroll down to Access token & access token secret section and click “Create”. Then copy your “Access token” and “Access token secret”.\n",
    "\n",
    "Once you have established you Twitter developer credentials, you will need to install the tweepy package."
   ]
  },
  {
   "cell_type": "markdown",
   "metadata": {},
   "source": [
    "### Specific number of 'live tweets'"
   ]
  },
  {
   "cell_type": "markdown",
   "metadata": {},
   "source": [
    "<div class=\"alert alert-block alert-success\">\n",
    "<b>Installation:: tweepy</b> <br>\n",
    "    pip install tweepy\n",
    "</div>"
   ]
  },
  {
   "cell_type": "code",
   "execution_count": 1,
   "metadata": {},
   "outputs": [],
   "source": [
    "import tweepy\n",
    "import json"
   ]
  },
  {
   "cell_type": "markdown",
   "metadata": {},
   "source": [
    "<div class=\"alert alert-block alert-danger\">\n",
    "<b>Important::</b> You can remove the following cell and use the commented out cell just below to load your Twitter credentials. The auth.csv will not be provided to you. Please notice that the individual credential fields are stored as strings.\n",
    "</div>"
   ]
  },
  {
   "cell_type": "code",
   "execution_count": 7,
   "metadata": {},
   "outputs": [],
   "source": [
    "# ### You should uncomment this cell and use this one with your credentials\n",
    "\n",
    "# # setting up some variables for Twitter. \n",
    "consumer_key = 'fcxfNISibidvpidEQac8oWvoQ'\n",
    "consumer_secret = '2gDtvaHlYB550LSrO6UTNmUEK7ndrECWVVj60YzezoIvbV1wla'\n",
    "access_token = '905700504277213185-6zc2RVM3rxKSQPFWRKTeK4NXMOKyaIY'\n",
    "access_token_secret = 'M4H74NZuyWmMqdMHsbxRV5pZCoQCVkojAQpxoFzb4Wy6U'"
   ]
  },
  {
   "cell_type": "markdown",
   "metadata": {},
   "source": [
    "Now that we have the individual user's credentials established and stored in variables, we can continue with setting up the connection to Twitter using tweepy.\n",
    "\n",
    "Parameters that we will use:\n",
    "* 'wait_on_rate_limit= True' will make the api to automatically wait for rate limits to replenish\n",
    "* 'wait_on_rate_limit_notify= True' will make the api  to print a notification when Tweepyis waiting for rate limits to replenish"
   ]
  },
  {
   "cell_type": "code",
   "execution_count": 11,
   "metadata": {},
   "outputs": [],
   "source": [
    "auth = tweepy.OAuthHandler(consumer_key, consumer_secret)\n",
    "auth.set_access_token(access_token, access_token_secret)\n",
    "api = tweepy.API(auth, wait_on_rate_limit=True, wait_on_rate_limit_notify=True, compression=True)"
   ]
  },
  {
   "cell_type": "markdown",
   "metadata": {},
   "source": [
    "Time to go get a tweet. The following loop will allow us to gather a specific number of tweets. \n",
    "\n",
    "Since we didn't specific any restrictions on the types of tweets to gather, our output can include retweets, original posts, etc. for the user's credentials that are being used."
   ]
  },
  {
   "cell_type": "code",
   "execution_count": 18,
   "metadata": {},
   "outputs": [],
   "source": [
    "for status in tweepy.Cursor(api.home_timeline).items(2):\n",
    "    print('*** Tweet ***\\n',status._json)"
   ]
  },
  {
   "cell_type": "markdown",
   "metadata": {},
   "source": [
    "We can see in the above output that we got 2 tweets back. Which is good since we asked for 2 tweets to be returned. We can also see that the dates for these 2 tweet are recent. However, we still aren't \"streaming\" live data."
   ]
  },
  {
   "cell_type": "markdown",
   "metadata": {},
   "source": [
    "### Streaming of Twitter data"
   ]
  },
  {
   "cell_type": "markdown",
   "metadata": {},
   "source": [
    "The first thing we will do is create a user defined listener class. (http://docs.tweepy.org/en/latest/streaming_how_to.html) \n",
    "\n",
    "For our example, we will only work with the on_status and on_error methods associated with tweepy's StreamListener class. \n",
    "\n",
    "More specifically, we will:\n",
    "   * Create a listener that prints the text of any tweet that comes from out API (on_status method)\n",
    "   * Handle errors the come from our API (on_error method)"
   ]
  },
  {
   "cell_type": "markdown",
   "metadata": {},
   "source": [
    "Here is our very basic user defined StreamListener:"
   ]
  },
  {
   "cell_type": "code",
   "execution_count": null,
   "metadata": {},
   "outputs": [],
   "source": [
    "class StreamListener(tweepy.StreamListener):\n",
    "\n",
    "    def on_status(self, status):\n",
    "        print(status.text)\n",
    "        \n",
    "    def on_error(self, status_code):\n",
    "        if status_code == 420:\n",
    "            return False"
   ]
  },
  {
   "cell_type": "markdown",
   "metadata": {},
   "source": [
    "Time to \"open the gates\" and start streaming data.  To make things a bit more interesting, let's filter our tweepy data to only consider tweets in English (languages=[\"en\"]) and related to Google (track=[\"google\"])."
   ]
  },
  {
   "cell_type": "markdown",
   "metadata": {},
   "source": [
    "<div class=\"alert alert-block alert-danger\">\n",
    "<b>Important::</b> You will have to kill the following cell at some point!  <i>This will run as long as you allow it to.</i>\n",
    "</div>"
   ]
  },
  {
   "cell_type": "code",
   "execution_count": null,
   "metadata": {
    "scrolled": true
   },
   "outputs": [],
   "source": [
    "stream_listener = StreamListener()\n",
    "stream = tweepy.Stream(auth=api.auth, listener=stream_listener)\n",
    "\n",
    "stream.filter(track=[\"google\"],languages=[\"en\"])"
   ]
  },
  {
   "cell_type": "code",
   "execution_count": null,
   "metadata": {},
   "outputs": [],
   "source": []
  }
 ],
 "metadata": {
  "kernelspec": {
   "display_name": "Python 3",
   "language": "python",
   "name": "python3"
  },
  "language_info": {
   "codemirror_mode": {
    "name": "ipython",
    "version": 3
   },
   "file_extension": ".py",
   "mimetype": "text/x-python",
   "name": "python",
   "nbconvert_exporter": "python",
   "pygments_lexer": "ipython3",
   "version": "3.7.4"
  }
 },
 "nbformat": 4,
 "nbformat_minor": 2
}
