{
 "cells": [
  {
   "cell_type": "markdown",
   "metadata": {},
   "source": [
    "# Week 7 Assignment\n",
    "\n",
    "This week's assignment you will be working with NOAAs weather API. This API will allow you to retrieve a variety of data from a specific weather station(s), of your choice.\n",
    "\n",
    "API Documentation: https://www.ncdc.noaa.gov/cdo-web/webservices/v2#gettingStarted"
   ]
  },
  {
   "cell_type": "markdown",
   "metadata": {},
   "source": [
    "As the API documentation page states, you will need to register for your own credentials. Following the instructions at https://www.ncdc.noaa.gov/cdo-web/token to register.\n",
    "\n",
    "<div class=\"alert alert-block alert-danger\">\n",
    "<b>Important::</b> You can remove the following cell and use the commented out cell just below to load your Twitter credentials. The auth2.csv will not be provided to you. Please notice that the individual credential fields are stored as strings.\n",
    "</div>"
   ]
  },
  {
   "cell_type": "code",
   "execution_count": 10,
   "metadata": {},
   "outputs": [],
   "source": [
    "# ### You should uncomment this cell and use your credentials from NOAA\n",
    "\n",
    "# # smy credentials for NOAA API. \n",
    "my_token = 'LXmmcJWnmZoOjkxNzXhdrAdeXrLnhddy'"
   ]
  },
  {
   "cell_type": "markdown",
   "metadata": {},
   "source": [
    "Now we need to determine a weather station that we would like to retrieve our data for. Use the following link to get the id for a NOAA weather station. https://www.ncdc.noaa.gov/cdo-web/datatools/findstation\n",
    "\n",
    "Fill out all field based on your preferences. I used:\n",
    "   * Location: CO\n",
    "   * Dataset: Daily Summaries\n",
    "   * Data Range: 2019-11-01 to 20019-11-30\n",
    "   * Data Category: Air Temperature\n"
   ]
  },
  {
   "cell_type": "markdown",
   "metadata": {},
   "source": [
    "<img align=\"left\" style=\"padding-right:10px;\" src=\"figures_7/NOAA_find_station_query.png\" >"
   ]
  },
  {
   "cell_type": "markdown",
   "metadata": {},
   "source": [
    "#### Click on 'Full Details' to see all the information\n",
    "<img align=\"left\" style=\"padding-right:10px;\" src=\"figures_7/NOAA_find_station_result.png\" ><br>"
   ]
  },
  {
   "cell_type": "markdown",
   "metadata": {},
   "source": [
    "From the Find A Station results, we will need to capture the following details:\n",
    "   * Capture the values within the 'Network' and 'Id' fields (second cell from top, split on ':')"
   ]
  },
  {
   "cell_type": "code",
   "execution_count": 11,
   "metadata": {},
   "outputs": [
    {
     "name": "stdout",
     "output_type": "stream",
     "text": [
      "GHCND:USW00023129\n"
     ]
    }
   ],
   "source": [
    "# variables based on my station search\n",
    "network = 'GHCND'\n",
    "ID = 'USW00023129'\n",
    "\n",
    "# station_id = network:ID\n",
    "station_id = network + ':' + ID\n",
    "print(station_id)"
   ]
  },
  {
   "cell_type": "markdown",
   "metadata": {},
   "source": [
    "### What type of data are we looking for?\n",
    "At this point we need to determine what type of data we want to retrieve. We can actually use the NOAAs API to help determine what is available for this station.\n",
    "\n",
    "One of the documentation pages https://www.ncdc.noaa.gov/cdo-web/webservices/v2#dataTypes shows us how to query for the available datatypes for the station we have chosen above.\n",
    "\n",
    "As we saw in the FTE, we can build a dictionary of parameters to be used in our request."
   ]
  },
  {
   "cell_type": "code",
   "execution_count": 12,
   "metadata": {},
   "outputs": [],
   "source": [
    "import requests\n",
    "import json\n",
    "\n",
    "# building the parameter dictionary\n",
    "# 'limit = 1000' --> What does this do? Look at the NOAA API documentation\n",
    "data = {}\n",
    "data = {'limit':'1000', 'datasetid': network, 'station_id': station_id}\n",
    "\n",
    "# calling NOAA API to get the available datatypes for this specific station\n",
    "r = requests.get('https://www.ncdc.noaa.gov/cdo-web/api/v2/datatypes',params = data, headers = {'token':my_token})"
   ]
  },
  {
   "cell_type": "markdown",
   "metadata": {},
   "source": [
    "Now we need to convert the JSON output from the request to something more readable"
   ]
  },
  {
   "cell_type": "code",
   "execution_count": 13,
   "metadata": {},
   "outputs": [
    {
     "data": {
      "text/plain": [
       "dict_keys(['metadata', 'results'])"
      ]
     },
     "execution_count": 13,
     "metadata": {},
     "output_type": "execute_result"
    }
   ],
   "source": [
    "# JSON to dictionary\n",
    "datatypes_dict = json.loads(r.text)\n",
    "\n",
    "# need the keys from this dictionary\n",
    "datatypes_dict.keys()\n"
   ]
  },
  {
   "cell_type": "markdown",
   "metadata": {},
   "source": [
    "I'm going to guess that the information we are after is stored in the results key.  Let's look at the first 5 and see if we might be right"
   ]
  },
  {
   "cell_type": "code",
   "execution_count": 14,
   "metadata": {},
   "outputs": [
    {
     "data": {
      "text/plain": [
       "[{'mindate': '1994-03-19',\n",
       "  'maxdate': '1996-05-28',\n",
       "  'name': 'Average cloudiness midnight to midnight from 30-second ceilometer data',\n",
       "  'datacoverage': 1,\n",
       "  'id': 'ACMC'},\n",
       " {'mindate': '1965-01-01',\n",
       "  'maxdate': '2005-12-31',\n",
       "  'name': 'Average cloudiness midnight to midnight from manual observations',\n",
       "  'datacoverage': 1,\n",
       "  'id': 'ACMH'},\n",
       " {'mindate': '1994-02-01',\n",
       "  'maxdate': '1996-05-28',\n",
       "  'name': 'Average cloudiness sunrise to sunset from 30-second ceilometer data',\n",
       "  'datacoverage': 1,\n",
       "  'id': 'ACSC'},\n",
       " {'mindate': '1965-01-01',\n",
       "  'maxdate': '2005-12-31',\n",
       "  'name': 'Average cloudiness sunrise to sunset from manual observations',\n",
       "  'datacoverage': 1,\n",
       "  'id': 'ACSH'},\n",
       " {'mindate': '1982-01-01',\n",
       "  'maxdate': '2019-12-12',\n",
       "  'name': 'Average wind speed',\n",
       "  'datacoverage': 1,\n",
       "  'id': 'AWND'},\n",
       " {'mindate': '1948-08-02',\n",
       "  'maxdate': '2012-07-23',\n",
       "  'name': 'Number of days included in the multiday evaporation total (MDEV)',\n",
       "  'datacoverage': 1,\n",
       "  'id': 'DAEV'},\n",
       " {'mindate': '1832-05-11',\n",
       "  'maxdate': '2019-12-13',\n",
       "  'name': 'Number of days included in the multiday precipitation total (MDPR)',\n",
       "  'datacoverage': 1,\n",
       "  'id': 'DAPR'},\n",
       " {'mindate': '1883-01-10',\n",
       "  'maxdate': '2019-01-14',\n",
       "  'name': 'Number of days included in the multiday snow fall total (MDSF) ',\n",
       "  'datacoverage': 1,\n",
       "  'id': 'DASF'},\n",
       " {'mindate': '1863-05-04',\n",
       "  'maxdate': '2019-11-05',\n",
       "  'name': 'Number of days included in the multiday minimum temperature (MDTN)',\n",
       "  'datacoverage': 1,\n",
       "  'id': 'DATN'},\n",
       " {'mindate': '1863-05-04',\n",
       "  'maxdate': '2019-11-04',\n",
       "  'name': 'Number of days included in the multiday maximum temperature (MDTX)',\n",
       "  'datacoverage': 1,\n",
       "  'id': 'DATX'}]"
      ]
     },
     "execution_count": 14,
     "metadata": {},
     "output_type": "execute_result"
    }
   ],
   "source": [
    "datatypes_dict['results'][:10]"
   ]
  },
  {
   "cell_type": "markdown",
   "metadata": {},
   "source": [
    "So, the results appear to be a list of dictionaries. \n",
    "\n",
    "<div class=\"alert alert-block alert-warning\">\n",
    "<b>Note:</b>  I'll leave parsing through all of these as an exercise for you to do.  I already did this seperately and determined I will be using the datatype set of 'TAVG' which is average temp and is available for the year of 2018.\n",
    "</div>"
   ]
  },
  {
   "cell_type": "code",
   "execution_count": 15,
   "metadata": {},
   "outputs": [
    {
     "data": {
      "text/plain": [
       "{'limit': '1000',\n",
       " 'datasetid': 'GHCND',\n",
       " 'stationid': 'GHCND:USW00023129',\n",
       " 'datatypeid': 'TAVG',\n",
       " 'startdate': '2018-01-01',\n",
       " 'enddate': '2018-12-31',\n",
       " 'units': 'standard'}"
      ]
     },
     "execution_count": 15,
     "metadata": {},
     "output_type": "execute_result"
    }
   ],
   "source": [
    "data = {}\n",
    "data = {'limit':'1000', 'datasetid': network, 'stationid': station_id}\n",
    "\n",
    "\n",
    "# append additional parameters to data dictionary\n",
    "data.update({'datatypeid': 'TAVG'})\n",
    "data.update({'startdate': '2018-01-01'})\n",
    "data.update({'enddate': '2018-12-31'})\n",
    "data.update({'units':'standard'})\n",
    "data"
   ]
  },
  {
   "cell_type": "code",
   "execution_count": 16,
   "metadata": {},
   "outputs": [],
   "source": [
    "# make the request to get our year of data\n",
    "r = requests.get('https://www.ncdc.noaa.gov/cdo-web/api/v2/data',params = data, headers = {'token':my_token})\n",
    "\n",
    "#load the api response as a json\n",
    "avg_temp_2018_dict = json.loads(r.text)"
   ]
  },
  {
   "cell_type": "code",
   "execution_count": 17,
   "metadata": {},
   "outputs": [
    {
     "data": {
      "text/plain": [
       "[{'date': '2018-01-01T00:00:00',\n",
       "  'datatype': 'TAVG',\n",
       "  'station': 'GHCND:USW00023129',\n",
       "  'attributes': 'H,,S,',\n",
       "  'value': 56.0},\n",
       " {'date': '2018-01-02T00:00:00',\n",
       "  'datatype': 'TAVG',\n",
       "  'station': 'GHCND:USW00023129',\n",
       "  'attributes': 'H,,S,',\n",
       "  'value': 60.0},\n",
       " {'date': '2018-01-03T00:00:00',\n",
       "  'datatype': 'TAVG',\n",
       "  'station': 'GHCND:USW00023129',\n",
       "  'attributes': 'H,,S,',\n",
       "  'value': 61.0},\n",
       " {'date': '2018-01-04T00:00:00',\n",
       "  'datatype': 'TAVG',\n",
       "  'station': 'GHCND:USW00023129',\n",
       "  'attributes': 'H,,S,',\n",
       "  'value': 62.0},\n",
       " {'date': '2018-01-05T00:00:00',\n",
       "  'datatype': 'TAVG',\n",
       "  'station': 'GHCND:USW00023129',\n",
       "  'attributes': 'H,,S,',\n",
       "  'value': 63.0},\n",
       " {'date': '2018-01-06T00:00:00',\n",
       "  'datatype': 'TAVG',\n",
       "  'station': 'GHCND:USW00023129',\n",
       "  'attributes': 'H,,S,',\n",
       "  'value': 62.0},\n",
       " {'date': '2018-01-07T00:00:00',\n",
       "  'datatype': 'TAVG',\n",
       "  'station': 'GHCND:USW00023129',\n",
       "  'attributes': 'H,,S,',\n",
       "  'value': 63.0},\n",
       " {'date': '2018-01-08T00:00:00',\n",
       "  'datatype': 'TAVG',\n",
       "  'station': 'GHCND:USW00023129',\n",
       "  'attributes': 'H,,S,',\n",
       "  'value': 64.0},\n",
       " {'date': '2018-01-09T00:00:00',\n",
       "  'datatype': 'TAVG',\n",
       "  'station': 'GHCND:USW00023129',\n",
       "  'attributes': 'H,,S,',\n",
       "  'value': 60.0},\n",
       " {'date': '2018-01-10T00:00:00',\n",
       "  'datatype': 'TAVG',\n",
       "  'station': 'GHCND:USW00023129',\n",
       "  'attributes': 'H,,S,',\n",
       "  'value': 56.0}]"
      ]
     },
     "execution_count": 17,
     "metadata": {},
     "output_type": "execute_result"
    }
   ],
   "source": [
    "# look at the first record of our data\n",
    "avg_temp_2018_dict['results'][:10]"
   ]
  },
  {
   "cell_type": "markdown",
   "metadata": {},
   "source": [
    "Looks like we have daily data and the 'value' key appears to contain a number that seems reasonable for temperature.\n",
    "\n",
    "Let's just verify that we got a record for everyday of 2018"
   ]
  },
  {
   "cell_type": "code",
   "execution_count": 18,
   "metadata": {},
   "outputs": [
    {
     "data": {
      "text/plain": [
       "365"
      ]
     },
     "execution_count": 18,
     "metadata": {},
     "output_type": "execute_result"
    }
   ],
   "source": [
    "# there were 365 days in 2018\n",
    "len(avg_temp_2018_dict['results'])"
   ]
  },
  {
   "cell_type": "code",
   "execution_count": 19,
   "metadata": {},
   "outputs": [
    {
     "name": "stdout",
     "output_type": "stream",
     "text": [
      "{'date': '2018-01-01T00:00:00', 'datatype': 'TAVG', 'station': 'GHCND:USW00023129', 'attributes': 'H,,S,', 'value': 56.0}\n",
      "{'date': '2018-12-31T00:00:00', 'datatype': 'TAVG', 'station': 'GHCND:USW00023129', 'attributes': 'H,,S,', 'value': 55.0}\n"
     ]
    }
   ],
   "source": [
    "# look at the first and last day\n",
    "print(avg_temp_2018_dict['results'][0])\n",
    "print(avg_temp_2018_dict['results'][364])"
   ]
  },
  {
   "cell_type": "markdown",
   "metadata": {},
   "source": [
    "### Requirements for the assignment\n",
    "Using the NOAA API, retrieve data for a weather station of your choice.  Based on the station you pick, \n",
    "   * Determine an appropriate dataset \n",
    "   * Determine an appropriatedataset type\n",
    "   * Pull at least 3 years worth of data.<br>\n",
    "     Note: if you pick an annual dataset, you will need to pull at least 25 years worth of data.\n",
    "   * Organize your results into a meaningful representation\n",
    "   * Store your result in one of the followinf formats:\n",
    "      - csv file\n",
    "      - json file\n",
    "      - relational database\n",
    "\n",
    "\n",
    "\n",
    "\n"
   ]
  },
  {
   "cell_type": "markdown",
   "metadata": {},
   "source": [
    "<div class=\"alert alert-block alert-danger\">\n",
    "<b>Important::</b> You MAY NOT reuse the station or datasettype that was demostrated above. This means the following are off limits: \n",
    "    \n",
    "   * ID = 'USW00023129'\n",
    "   * datatypeid = 'TAVG'\n",
    "\n",
    "</div>"
   ]
  },
  {
   "cell_type": "markdown",
   "metadata": {},
   "source": [
    "<div class=\"alert alert-block alert-warning\">\n",
    "<b>Hint:</b> The NOAA API will only allow you to pull one year of data at a time.\n",
    "</div>"
   ]
  },
  {
   "cell_type": "code",
   "execution_count": 20,
   "metadata": {},
   "outputs": [
    {
     "name": "stdout",
     "output_type": "stream",
     "text": [
      "GHCND:US1AZMR0291\n"
     ]
    }
   ],
   "source": [
    "# variables based on my station search: Chose the station closest to my house in peoria az\n",
    "network = 'GHCND'\n",
    "ID = 'US1AZMR0291'\n",
    "\n",
    "# station_id = network:ID\n",
    "station_id = network + ':' + ID\n",
    "print(station_id)"
   ]
  },
  {
   "cell_type": "code",
   "execution_count": 21,
   "metadata": {},
   "outputs": [],
   "source": [
    "#chose Precipitation since its rare to see in arizona \n",
    "data = {}\n",
    "data = {'limit':'1000', 'datasetid': network, 'stationid': station_id}\n",
    "start='-01-01'\n",
    "end='-12-31'\n",
    "data_list=[]\n",
    "\n",
    "for x in range(2010,2019):\n",
    "    data.update({'datatypeid': 'PRCP'})\n",
    "    data.update({'startdate': str(x)+start})\n",
    "    data.update({'enddate': str(x)+end})\n",
    "    data.update({'units':'standard'})\n",
    "    r = requests.get('https://www.ncdc.noaa.gov/cdo-web/api/v2/data',params = data, headers = {'token':my_token})\n",
    "    dictonary_load = json.loads(r.text)\n",
    "    data_list.append(dictonary_load['results'])"
   ]
  },
  {
   "cell_type": "code",
   "execution_count": 22,
   "metadata": {},
   "outputs": [
    {
     "data": {
      "text/plain": [
       "[[{'date': '2010-03-03T00:00:00',\n",
       "   'datatype': 'PRCP',\n",
       "   'station': 'GHCND:US1AZMR0291',\n",
       "   'attributes': ',,N,',\n",
       "   'value': 0.0},\n",
       "  {'date': '2010-03-04T00:00:00',\n",
       "   'datatype': 'PRCP',\n",
       "   'station': 'GHCND:US1AZMR0291',\n",
       "   'attributes': ',,N,',\n",
       "   'value': 0.0},\n",
       "  {'date': '2010-03-05T00:00:00',\n",
       "   'datatype': 'PRCP',\n",
       "   'station': 'GHCND:US1AZMR0291',\n",
       "   'attributes': ',,N,',\n",
       "   'value': 0.0},\n",
       "  {'date': '2010-03-06T00:00:00',\n",
       "   'datatype': 'PRCP',\n",
       "   'station': 'GHCND:US1AZMR0291',\n",
       "   'attributes': ',,N,',\n",
       "   'value': 0.0},\n",
       "  {'date': '2010-03-07T00:00:00',\n",
       "   'datatype': 'PRCP',\n",
       "   'station': 'GHCND:US1AZMR0291',\n",
       "   'attributes': ',,N,',\n",
       "   'value': 0.03},\n",
       "  {'date': '2010-03-08T00:00:00',\n",
       "   'datatype': 'PRCP',\n",
       "   'station': 'GHCND:US1AZMR0291',\n",
       "   'attributes': ',,N,',\n",
       "   'value': 1.01},\n",
       "  {'date': '2010-03-09T00:00:00',\n",
       "   'datatype': 'PRCP',\n",
       "   'station': 'GHCND:US1AZMR0291',\n",
       "   'attributes': ',,N,',\n",
       "   'value': 0.0},\n",
       "  {'date': '2010-03-10T00:00:00',\n",
       "   'datatype': 'PRCP',\n",
       "   'station': 'GHCND:US1AZMR0291',\n",
       "   'attributes': ',,N,',\n",
       "   'value': 0.01},\n",
       "  {'date': '2010-03-11T00:00:00',\n",
       "   'datatype': 'PRCP',\n",
       "   'station': 'GHCND:US1AZMR0291',\n",
       "   'attributes': ',,N,',\n",
       "   'value': 0.0},\n",
       "  {'date': '2010-03-13T00:00:00',\n",
       "   'datatype': 'PRCP',\n",
       "   'station': 'GHCND:US1AZMR0291',\n",
       "   'attributes': ',,N,',\n",
       "   'value': 0.0},\n",
       "  {'date': '2010-03-14T00:00:00',\n",
       "   'datatype': 'PRCP',\n",
       "   'station': 'GHCND:US1AZMR0291',\n",
       "   'attributes': ',,N,',\n",
       "   'value': 0.0},\n",
       "  {'date': '2010-03-15T00:00:00',\n",
       "   'datatype': 'PRCP',\n",
       "   'station': 'GHCND:US1AZMR0291',\n",
       "   'attributes': ',,N,',\n",
       "   'value': 0.0},\n",
       "  {'date': '2010-03-16T00:00:00',\n",
       "   'datatype': 'PRCP',\n",
       "   'station': 'GHCND:US1AZMR0291',\n",
       "   'attributes': ',,N,',\n",
       "   'value': 0.0},\n",
       "  {'date': '2010-03-17T00:00:00',\n",
       "   'datatype': 'PRCP',\n",
       "   'station': 'GHCND:US1AZMR0291',\n",
       "   'attributes': ',,N,',\n",
       "   'value': 0.0},\n",
       "  {'date': '2010-03-19T00:00:00',\n",
       "   'datatype': 'PRCP',\n",
       "   'station': 'GHCND:US1AZMR0291',\n",
       "   'attributes': ',,N,',\n",
       "   'value': 0.0},\n",
       "  {'date': '2010-03-21T00:00:00',\n",
       "   'datatype': 'PRCP',\n",
       "   'station': 'GHCND:US1AZMR0291',\n",
       "   'attributes': ',,N,',\n",
       "   'value': 0.0},\n",
       "  {'date': '2010-03-23T00:00:00',\n",
       "   'datatype': 'PRCP',\n",
       "   'station': 'GHCND:US1AZMR0291',\n",
       "   'attributes': ',,N,',\n",
       "   'value': 0.15},\n",
       "  {'date': '2010-03-24T00:00:00',\n",
       "   'datatype': 'PRCP',\n",
       "   'station': 'GHCND:US1AZMR0291',\n",
       "   'attributes': ',,N,',\n",
       "   'value': 0.0},\n",
       "  {'date': '2010-03-26T00:00:00',\n",
       "   'datatype': 'PRCP',\n",
       "   'station': 'GHCND:US1AZMR0291',\n",
       "   'attributes': ',,N,',\n",
       "   'value': 0.0},\n",
       "  {'date': '2010-03-29T00:00:00',\n",
       "   'datatype': 'PRCP',\n",
       "   'station': 'GHCND:US1AZMR0291',\n",
       "   'attributes': ',,N,',\n",
       "   'value': 0.0},\n",
       "  {'date': '2010-03-30T00:00:00',\n",
       "   'datatype': 'PRCP',\n",
       "   'station': 'GHCND:US1AZMR0291',\n",
       "   'attributes': ',,N,',\n",
       "   'value': 0.0},\n",
       "  {'date': '2010-07-23T00:00:00',\n",
       "   'datatype': 'PRCP',\n",
       "   'station': 'GHCND:US1AZMR0291',\n",
       "   'attributes': ',,N,',\n",
       "   'value': 0.22},\n",
       "  {'date': '2010-08-18T00:00:00',\n",
       "   'datatype': 'PRCP',\n",
       "   'station': 'GHCND:US1AZMR0291',\n",
       "   'attributes': ',,N,',\n",
       "   'value': 0.14},\n",
       "  {'date': '2010-10-05T00:00:00',\n",
       "   'datatype': 'PRCP',\n",
       "   'station': 'GHCND:US1AZMR0291',\n",
       "   'attributes': ',,N,',\n",
       "   'value': 0.52},\n",
       "  {'date': '2010-10-07T00:00:00',\n",
       "   'datatype': 'PRCP',\n",
       "   'station': 'GHCND:US1AZMR0291',\n",
       "   'attributes': ',,N,',\n",
       "   'value': 0.0},\n",
       "  {'date': '2010-10-08T00:00:00',\n",
       "   'datatype': 'PRCP',\n",
       "   'station': 'GHCND:US1AZMR0291',\n",
       "   'attributes': ',,N,',\n",
       "   'value': 0.0},\n",
       "  {'date': '2010-10-09T00:00:00',\n",
       "   'datatype': 'PRCP',\n",
       "   'station': 'GHCND:US1AZMR0291',\n",
       "   'attributes': ',,N,',\n",
       "   'value': 0.0},\n",
       "  {'date': '2010-10-10T00:00:00',\n",
       "   'datatype': 'PRCP',\n",
       "   'station': 'GHCND:US1AZMR0291',\n",
       "   'attributes': ',,N,',\n",
       "   'value': 0.0},\n",
       "  {'date': '2010-10-11T00:00:00',\n",
       "   'datatype': 'PRCP',\n",
       "   'station': 'GHCND:US1AZMR0291',\n",
       "   'attributes': ',,N,',\n",
       "   'value': 0.0},\n",
       "  {'date': '2010-10-12T00:00:00',\n",
       "   'datatype': 'PRCP',\n",
       "   'station': 'GHCND:US1AZMR0291',\n",
       "   'attributes': ',,N,',\n",
       "   'value': 0.0},\n",
       "  {'date': '2010-10-21T00:00:00',\n",
       "   'datatype': 'PRCP',\n",
       "   'station': 'GHCND:US1AZMR0291',\n",
       "   'attributes': ',,N,',\n",
       "   'value': 0.2},\n",
       "  {'date': '2010-10-23T00:00:00',\n",
       "   'datatype': 'PRCP',\n",
       "   'station': 'GHCND:US1AZMR0291',\n",
       "   'attributes': ',,N,',\n",
       "   'value': 0.01},\n",
       "  {'date': '2010-11-01T00:00:00',\n",
       "   'datatype': 'PRCP',\n",
       "   'station': 'GHCND:US1AZMR0291',\n",
       "   'attributes': ',,N,',\n",
       "   'value': 0.0},\n",
       "  {'date': '2010-11-02T00:00:00',\n",
       "   'datatype': 'PRCP',\n",
       "   'station': 'GHCND:US1AZMR0291',\n",
       "   'attributes': ',,N,',\n",
       "   'value': 0.0},\n",
       "  {'date': '2010-11-03T00:00:00',\n",
       "   'datatype': 'PRCP',\n",
       "   'station': 'GHCND:US1AZMR0291',\n",
       "   'attributes': ',,N,',\n",
       "   'value': 0.0},\n",
       "  {'date': '2010-11-04T00:00:00',\n",
       "   'datatype': 'PRCP',\n",
       "   'station': 'GHCND:US1AZMR0291',\n",
       "   'attributes': ',,N,',\n",
       "   'value': 0.0},\n",
       "  {'date': '2010-11-05T00:00:00',\n",
       "   'datatype': 'PRCP',\n",
       "   'station': 'GHCND:US1AZMR0291',\n",
       "   'attributes': ',,N,',\n",
       "   'value': 0.0},\n",
       "  {'date': '2010-11-06T00:00:00',\n",
       "   'datatype': 'PRCP',\n",
       "   'station': 'GHCND:US1AZMR0291',\n",
       "   'attributes': ',,N,',\n",
       "   'value': 0.0},\n",
       "  {'date': '2010-11-07T00:00:00',\n",
       "   'datatype': 'PRCP',\n",
       "   'station': 'GHCND:US1AZMR0291',\n",
       "   'attributes': ',,N,',\n",
       "   'value': 0.0},\n",
       "  {'date': '2010-11-08T00:00:00',\n",
       "   'datatype': 'PRCP',\n",
       "   'station': 'GHCND:US1AZMR0291',\n",
       "   'attributes': ',,N,',\n",
       "   'value': 0.0},\n",
       "  {'date': '2010-11-09T00:00:00',\n",
       "   'datatype': 'PRCP',\n",
       "   'station': 'GHCND:US1AZMR0291',\n",
       "   'attributes': ',,N,',\n",
       "   'value': 0.0},\n",
       "  {'date': '2010-11-10T00:00:00',\n",
       "   'datatype': 'PRCP',\n",
       "   'station': 'GHCND:US1AZMR0291',\n",
       "   'attributes': ',,N,',\n",
       "   'value': 0.0},\n",
       "  {'date': '2010-11-22T00:00:00',\n",
       "   'datatype': 'PRCP',\n",
       "   'station': 'GHCND:US1AZMR0291',\n",
       "   'attributes': ',,N,',\n",
       "   'value': 0.03},\n",
       "  {'date': '2010-12-05T00:00:00',\n",
       "   'datatype': 'PRCP',\n",
       "   'station': 'GHCND:US1AZMR0291',\n",
       "   'attributes': ',,N,',\n",
       "   'value': 0.0},\n",
       "  {'date': '2010-12-06T00:00:00',\n",
       "   'datatype': 'PRCP',\n",
       "   'station': 'GHCND:US1AZMR0291',\n",
       "   'attributes': ',,N,',\n",
       "   'value': 0.0},\n",
       "  {'date': '2010-12-07T00:00:00',\n",
       "   'datatype': 'PRCP',\n",
       "   'station': 'GHCND:US1AZMR0291',\n",
       "   'attributes': ',,N,',\n",
       "   'value': 0.0},\n",
       "  {'date': '2010-12-08T00:00:00',\n",
       "   'datatype': 'PRCP',\n",
       "   'station': 'GHCND:US1AZMR0291',\n",
       "   'attributes': ',,N,',\n",
       "   'value': 0.0},\n",
       "  {'date': '2010-12-09T00:00:00',\n",
       "   'datatype': 'PRCP',\n",
       "   'station': 'GHCND:US1AZMR0291',\n",
       "   'attributes': ',,N,',\n",
       "   'value': 0.0},\n",
       "  {'date': '2010-12-10T00:00:00',\n",
       "   'datatype': 'PRCP',\n",
       "   'station': 'GHCND:US1AZMR0291',\n",
       "   'attributes': ',,N,',\n",
       "   'value': 0.0},\n",
       "  {'date': '2010-12-11T00:00:00',\n",
       "   'datatype': 'PRCP',\n",
       "   'station': 'GHCND:US1AZMR0291',\n",
       "   'attributes': ',,N,',\n",
       "   'value': 0.0},\n",
       "  {'date': '2010-12-12T00:00:00',\n",
       "   'datatype': 'PRCP',\n",
       "   'station': 'GHCND:US1AZMR0291',\n",
       "   'attributes': ',,N,',\n",
       "   'value': 0.0},\n",
       "  {'date': '2010-12-13T00:00:00',\n",
       "   'datatype': 'PRCP',\n",
       "   'station': 'GHCND:US1AZMR0291',\n",
       "   'attributes': ',,N,',\n",
       "   'value': 0.0},\n",
       "  {'date': '2010-12-14T00:00:00',\n",
       "   'datatype': 'PRCP',\n",
       "   'station': 'GHCND:US1AZMR0291',\n",
       "   'attributes': ',,N,',\n",
       "   'value': 0.0},\n",
       "  {'date': '2010-12-15T00:00:00',\n",
       "   'datatype': 'PRCP',\n",
       "   'station': 'GHCND:US1AZMR0291',\n",
       "   'attributes': ',,N,',\n",
       "   'value': 0.0},\n",
       "  {'date': '2010-12-16T00:00:00',\n",
       "   'datatype': 'PRCP',\n",
       "   'station': 'GHCND:US1AZMR0291',\n",
       "   'attributes': ',,N,',\n",
       "   'value': 0.0},\n",
       "  {'date': '2010-12-17T00:00:00',\n",
       "   'datatype': 'PRCP',\n",
       "   'station': 'GHCND:US1AZMR0291',\n",
       "   'attributes': ',,N,',\n",
       "   'value': 0.17},\n",
       "  {'date': '2010-12-18T00:00:00',\n",
       "   'datatype': 'PRCP',\n",
       "   'station': 'GHCND:US1AZMR0291',\n",
       "   'attributes': ',,N,',\n",
       "   'value': 0.0},\n",
       "  {'date': '2010-12-19T00:00:00',\n",
       "   'datatype': 'PRCP',\n",
       "   'station': 'GHCND:US1AZMR0291',\n",
       "   'attributes': ',,N,',\n",
       "   'value': 0.0},\n",
       "  {'date': '2010-12-20T00:00:00',\n",
       "   'datatype': 'PRCP',\n",
       "   'station': 'GHCND:US1AZMR0291',\n",
       "   'attributes': ',,N,',\n",
       "   'value': 0.0},\n",
       "  {'date': '2010-12-21T00:00:00',\n",
       "   'datatype': 'PRCP',\n",
       "   'station': 'GHCND:US1AZMR0291',\n",
       "   'attributes': ',,N,',\n",
       "   'value': 0.0},\n",
       "  {'date': '2010-12-22T00:00:00',\n",
       "   'datatype': 'PRCP',\n",
       "   'station': 'GHCND:US1AZMR0291',\n",
       "   'attributes': ',,N,',\n",
       "   'value': 0.06},\n",
       "  {'date': '2010-12-23T00:00:00',\n",
       "   'datatype': 'PRCP',\n",
       "   'station': 'GHCND:US1AZMR0291',\n",
       "   'attributes': ',,N,',\n",
       "   'value': 0.67},\n",
       "  {'date': '2010-12-30T00:00:00',\n",
       "   'datatype': 'PRCP',\n",
       "   'station': 'GHCND:US1AZMR0291',\n",
       "   'attributes': ',,N,',\n",
       "   'value': 1.48}]]"
      ]
     },
     "execution_count": 22,
     "metadata": {},
     "output_type": "execute_result"
    }
   ],
   "source": [
    "data_list[:1]"
   ]
  },
  {
   "cell_type": "code",
   "execution_count": 23,
   "metadata": {},
   "outputs": [],
   "source": [
    "#needed to create a flat list since the loop created a list of list\n",
    "flat_list = []\n",
    "for sublist in data_list:\n",
    "    for item in sublist:\n",
    "        flat_list.append(item)"
   ]
  },
  {
   "cell_type": "code",
   "execution_count": 24,
   "metadata": {},
   "outputs": [
    {
     "data": {
      "text/plain": [
       "[{'date': '2010-03-03T00:00:00',\n",
       "  'datatype': 'PRCP',\n",
       "  'station': 'GHCND:US1AZMR0291',\n",
       "  'attributes': ',,N,',\n",
       "  'value': 0.0},\n",
       " {'date': '2010-03-04T00:00:00',\n",
       "  'datatype': 'PRCP',\n",
       "  'station': 'GHCND:US1AZMR0291',\n",
       "  'attributes': ',,N,',\n",
       "  'value': 0.0},\n",
       " {'date': '2010-03-05T00:00:00',\n",
       "  'datatype': 'PRCP',\n",
       "  'station': 'GHCND:US1AZMR0291',\n",
       "  'attributes': ',,N,',\n",
       "  'value': 0.0},\n",
       " {'date': '2010-03-06T00:00:00',\n",
       "  'datatype': 'PRCP',\n",
       "  'station': 'GHCND:US1AZMR0291',\n",
       "  'attributes': ',,N,',\n",
       "  'value': 0.0},\n",
       " {'date': '2010-03-07T00:00:00',\n",
       "  'datatype': 'PRCP',\n",
       "  'station': 'GHCND:US1AZMR0291',\n",
       "  'attributes': ',,N,',\n",
       "  'value': 0.03}]"
      ]
     },
     "execution_count": 24,
     "metadata": {},
     "output_type": "execute_result"
    }
   ],
   "source": [
    "flat_list[:5]"
   ]
  },
  {
   "cell_type": "code",
   "execution_count": 25,
   "metadata": {},
   "outputs": [
    {
     "data": {
      "text/html": [
       "<div>\n",
       "<style scoped>\n",
       "    .dataframe tbody tr th:only-of-type {\n",
       "        vertical-align: middle;\n",
       "    }\n",
       "\n",
       "    .dataframe tbody tr th {\n",
       "        vertical-align: top;\n",
       "    }\n",
       "\n",
       "    .dataframe thead th {\n",
       "        text-align: right;\n",
       "    }\n",
       "</style>\n",
       "<table border=\"1\" class=\"dataframe\">\n",
       "  <thead>\n",
       "    <tr style=\"text-align: right;\">\n",
       "      <th></th>\n",
       "      <th>date</th>\n",
       "      <th>datatype</th>\n",
       "      <th>station</th>\n",
       "      <th>attributes</th>\n",
       "      <th>value</th>\n",
       "    </tr>\n",
       "  </thead>\n",
       "  <tbody>\n",
       "    <tr>\n",
       "      <td>0</td>\n",
       "      <td>2010-03-03T00:00:00</td>\n",
       "      <td>PRCP</td>\n",
       "      <td>GHCND:US1AZMR0291</td>\n",
       "      <td>,,N,</td>\n",
       "      <td>0.00</td>\n",
       "    </tr>\n",
       "    <tr>\n",
       "      <td>1</td>\n",
       "      <td>2010-03-04T00:00:00</td>\n",
       "      <td>PRCP</td>\n",
       "      <td>GHCND:US1AZMR0291</td>\n",
       "      <td>,,N,</td>\n",
       "      <td>0.00</td>\n",
       "    </tr>\n",
       "    <tr>\n",
       "      <td>2</td>\n",
       "      <td>2010-03-05T00:00:00</td>\n",
       "      <td>PRCP</td>\n",
       "      <td>GHCND:US1AZMR0291</td>\n",
       "      <td>,,N,</td>\n",
       "      <td>0.00</td>\n",
       "    </tr>\n",
       "    <tr>\n",
       "      <td>3</td>\n",
       "      <td>2010-03-06T00:00:00</td>\n",
       "      <td>PRCP</td>\n",
       "      <td>GHCND:US1AZMR0291</td>\n",
       "      <td>,,N,</td>\n",
       "      <td>0.00</td>\n",
       "    </tr>\n",
       "    <tr>\n",
       "      <td>4</td>\n",
       "      <td>2010-03-07T00:00:00</td>\n",
       "      <td>PRCP</td>\n",
       "      <td>GHCND:US1AZMR0291</td>\n",
       "      <td>,,N,</td>\n",
       "      <td>0.03</td>\n",
       "    </tr>\n",
       "  </tbody>\n",
       "</table>\n",
       "</div>"
      ],
      "text/plain": [
       "                  date datatype            station attributes  value\n",
       "0  2010-03-03T00:00:00     PRCP  GHCND:US1AZMR0291       ,,N,   0.00\n",
       "1  2010-03-04T00:00:00     PRCP  GHCND:US1AZMR0291       ,,N,   0.00\n",
       "2  2010-03-05T00:00:00     PRCP  GHCND:US1AZMR0291       ,,N,   0.00\n",
       "3  2010-03-06T00:00:00     PRCP  GHCND:US1AZMR0291       ,,N,   0.00\n",
       "4  2010-03-07T00:00:00     PRCP  GHCND:US1AZMR0291       ,,N,   0.03"
      ]
     },
     "execution_count": 25,
     "metadata": {},
     "output_type": "execute_result"
    }
   ],
   "source": [
    "import pandas as pd\n",
    "df = pd.DataFrame(flat_list) \n",
    "df.head()"
   ]
  },
  {
   "cell_type": "code",
   "execution_count": 26,
   "metadata": {},
   "outputs": [],
   "source": [
    "df.to_csv (r'C:\\Users\\eltac\\Downloads\\weather_results.csv', index = None, header=True)"
   ]
  },
  {
   "cell_type": "code",
   "execution_count": null,
   "metadata": {},
   "outputs": [],
   "source": []
  }
 ],
 "metadata": {
  "kernelspec": {
   "display_name": "Python 3",
   "language": "python",
   "name": "python3"
  },
  "language_info": {
   "codemirror_mode": {
    "name": "ipython",
    "version": 3
   },
   "file_extension": ".py",
   "mimetype": "text/x-python",
   "name": "python",
   "nbconvert_exporter": "python",
   "pygments_lexer": "ipython3",
   "version": "3.7.4"
  }
 },
 "nbformat": 4,
 "nbformat_minor": 2
}
